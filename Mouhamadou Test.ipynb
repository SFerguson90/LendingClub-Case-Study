{
 "cells": [
  {
   "cell_type": "code",
   "execution_count": 1,
   "id": "58ba1685",
   "metadata": {},
   "outputs": [],
   "source": [
    "import pandas as pd\n",
    "import matplotlib.pyplot as plt"
   ]
  },
  {
   "cell_type": "code",
   "execution_count": 6,
   "id": "7194e0f8",
   "metadata": {},
   "outputs": [
    {
     "data": {
      "text/html": [
       "<div>\n",
       "<style scoped>\n",
       "    .dataframe tbody tr th:only-of-type {\n",
       "        vertical-align: middle;\n",
       "    }\n",
       "\n",
       "    .dataframe tbody tr th {\n",
       "        vertical-align: top;\n",
       "    }\n",
       "\n",
       "    .dataframe thead th {\n",
       "        text-align: right;\n",
       "    }\n",
       "</style>\n",
       "<table border=\"1\" class=\"dataframe\">\n",
       "  <thead>\n",
       "    <tr style=\"text-align: right;\">\n",
       "      <th></th>\n",
       "      <th>Date</th>\n",
       "      <th>Close</th>\n",
       "      <th>High</th>\n",
       "      <th>Low</th>\n",
       "      <th>Open</th>\n",
       "      <th>Volume</th>\n",
       "    </tr>\n",
       "  </thead>\n",
       "  <tbody>\n",
       "    <tr>\n",
       "      <th>0</th>\n",
       "      <td>11/9/2005</td>\n",
       "      <td>26.70</td>\n",
       "      <td>34.16</td>\n",
       "      <td>26.2900</td>\n",
       "      <td>30.40</td>\n",
       "      <td>5,298,760</td>\n",
       "    </tr>\n",
       "    <tr>\n",
       "      <th>1</th>\n",
       "      <td>11/10/2005</td>\n",
       "      <td>34.50</td>\n",
       "      <td>35.16</td>\n",
       "      <td>31.3300</td>\n",
       "      <td>35.00</td>\n",
       "      <td>7,775,965</td>\n",
       "    </tr>\n",
       "    <tr>\n",
       "      <th>2</th>\n",
       "      <td>11/11/2005</td>\n",
       "      <td>36.51</td>\n",
       "      <td>37.33</td>\n",
       "      <td>32.9900</td>\n",
       "      <td>34.50</td>\n",
       "      <td>4,599,388</td>\n",
       "    </tr>\n",
       "    <tr>\n",
       "      <th>3</th>\n",
       "      <td>11/14/2005</td>\n",
       "      <td>32.70</td>\n",
       "      <td>36.20</td>\n",
       "      <td>32.7000</td>\n",
       "      <td>35.98</td>\n",
       "      <td>1,877,597</td>\n",
       "    </tr>\n",
       "    <tr>\n",
       "      <th>4</th>\n",
       "      <td>11/15/2005</td>\n",
       "      <td>30.60</td>\n",
       "      <td>33.62</td>\n",
       "      <td>29.9800</td>\n",
       "      <td>32.24</td>\n",
       "      <td>1,468,511</td>\n",
       "    </tr>\n",
       "    <tr>\n",
       "      <th>...</th>\n",
       "      <td>...</td>\n",
       "      <td>...</td>\n",
       "      <td>...</td>\n",
       "      <td>...</td>\n",
       "      <td>...</td>\n",
       "      <td>...</td>\n",
       "    </tr>\n",
       "    <tr>\n",
       "      <th>3840</th>\n",
       "      <td>2/12/2021</td>\n",
       "      <td>133.40</td>\n",
       "      <td>137.79</td>\n",
       "      <td>129.0000</td>\n",
       "      <td>130.00</td>\n",
       "      <td>1,194,466</td>\n",
       "    </tr>\n",
       "    <tr>\n",
       "      <th>3841</th>\n",
       "      <td>2/16/2021</td>\n",
       "      <td>122.48</td>\n",
       "      <td>134.68</td>\n",
       "      <td>120.3100</td>\n",
       "      <td>133.67</td>\n",
       "      <td>1,463,640</td>\n",
       "    </tr>\n",
       "    <tr>\n",
       "      <th>3842</th>\n",
       "      <td>2/17/2021</td>\n",
       "      <td>121.74</td>\n",
       "      <td>123.89</td>\n",
       "      <td>119.4500</td>\n",
       "      <td>122.00</td>\n",
       "      <td>975,206</td>\n",
       "    </tr>\n",
       "    <tr>\n",
       "      <th>3843</th>\n",
       "      <td>2/18/2021</td>\n",
       "      <td>122.77</td>\n",
       "      <td>123.53</td>\n",
       "      <td>117.3632</td>\n",
       "      <td>118.50</td>\n",
       "      <td>645,043</td>\n",
       "    </tr>\n",
       "    <tr>\n",
       "      <th>3844</th>\n",
       "      <td>2/19/2021</td>\n",
       "      <td>125.70</td>\n",
       "      <td>127.56</td>\n",
       "      <td>123.6800</td>\n",
       "      <td>124.00</td>\n",
       "      <td>516,784</td>\n",
       "    </tr>\n",
       "  </tbody>\n",
       "</table>\n",
       "<p>3845 rows × 6 columns</p>\n",
       "</div>"
      ],
      "text/plain": [
       "            Date   Close    High       Low    Open     Volume\n",
       "0      11/9/2005   26.70   34.16   26.2900   30.40  5,298,760\n",
       "1     11/10/2005   34.50   35.16   31.3300   35.00  7,775,965\n",
       "2     11/11/2005   36.51   37.33   32.9900   34.50  4,599,388\n",
       "3     11/14/2005   32.70   36.20   32.7000   35.98  1,877,597\n",
       "4     11/15/2005   30.60   33.62   29.9800   32.24  1,468,511\n",
       "...          ...     ...     ...       ...     ...        ...\n",
       "3840   2/12/2021  133.40  137.79  129.0000  130.00  1,194,466\n",
       "3841   2/16/2021  122.48  134.68  120.3100  133.67  1,463,640\n",
       "3842   2/17/2021  121.74  123.89  119.4500  122.00    975,206\n",
       "3843   2/18/2021  122.77  123.53  117.3632  118.50    645,043\n",
       "3844   2/19/2021  125.70  127.56  123.6800  124.00    516,784\n",
       "\n",
       "[3845 rows x 6 columns]"
      ]
     },
     "execution_count": 6,
     "metadata": {},
     "output_type": "execute_result"
    }
   ],
   "source": [
    "irbt_df = pd.read_csv(\"IRBT.csv\")\n",
    "irbt_df"
   ]
  },
  {
   "cell_type": "code",
   "execution_count": 9,
   "id": "840ea0e8",
   "metadata": {},
   "outputs": [
    {
     "data": {
      "text/plain": [
       "<AxesSubplot:>"
      ]
     },
     "execution_count": 9,
     "metadata": {},
     "output_type": "execute_result"
    },
    {
     "data": {
      "image/png": "[encoded data removed]",
      "text/plain": [
       "<Figure size 432x288 with 1 Axes>"
      ]
     },
     "metadata": {
      "needs_background": "light"
     },
     "output_type": "display_data"
    }
   ],
   "source": [
    "irbt_df."
   ]
  },
  {
   "cell_type": "code",
   "execution_count": null,
   "id": "7836e485",
   "metadata": {},
   "outputs": [],
   "source": []
  }
 ],
 "metadata": {
  "kernelspec": {
   "display_name": "Python 3",
   "language": "python",
   "name": "python3"
  },
  "language_info": {
   "codemirror_mode": {
    "name": "ipython",
    "version": 3
   },
   "file_extension": ".py",
   "mimetype": "text/x-python",
   "name": "python",
   "nbconvert_exporter": "python",
   "pygments_lexer": "ipython3",
   "version": "3.8.5"
  }
 },
 "nbformat": 4,
 "nbformat_minor": 5
}
